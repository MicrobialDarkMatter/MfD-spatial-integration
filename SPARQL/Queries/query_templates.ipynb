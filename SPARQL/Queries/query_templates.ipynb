{
 "cells": [
  {
   "cell_type": "markdown",
   "metadata": {},
   "source": [
    "This part just imports the necessary tools to query the graph - no need to change anything here!"
   ]
  },
  {
   "cell_type": "code",
   "execution_count": 1,
   "metadata": {},
   "outputs": [],
   "source": [
    "import sys\n",
    "sys.path.append(\"/projects/mdm/MfD-spatial-integration/\")\n",
    "\n",
    "from QueryEngine import QueryEngine\n",
    "\n",
    "engine = QueryEngine(\n",
    "    ssh_address_or_host='10.92.1.211',\n",
    "    ssh_username='ubuntu',\n",
    "    ssh_pkey='/Users/qy90vk/.ssh/mfd_subset',\n",
    "    remote_bind_address=('127.0.0.1', 7200),  \n",
    "    local_bind_address=('127.0.0.1', 7200),\n",
    "    endpoint_url=\"http://localhost:7200/repositories/mdm\"\n",
    ")"
   ]
  },
  {
   "cell_type": "markdown",
   "metadata": {},
   "source": [
    "## Query 1 - Get variable value for all sample sites\n",
    "This query returns the value for 'variable X', 'variable Y', and 'variable Z' in all those locations where a sample was taken. \n",
    "\n",
    "You can change which variables you are interested in, and even add or remove variables."
   ]
  },
  {
   "cell_type": "code",
   "execution_count": 2,
   "metadata": {},
   "outputs": [],
   "source": [
    "# These are the variables you can change. For a complete list of available variables, TODO: ... Also note that maybe we can include a newdataset?\n",
    "variables = [\"...\", \"...\", \"...\"]\n",
    "\n",
    "query = \"\"\"\n",
    "        SELECT ?s ?p ?o\n",
    "        WHERE {\n",
    "            ?s ?p ?o .\n",
    "        }\n",
    "        LIMIT 100\n",
    "        \"\"\""
   ]
  },
  {
   "cell_type": "markdown",
   "metadata": {},
   "source": [
    "## Query 2 - Distribution of species\n",
    "This query returns the distribution of a specific species across Denmark, and also returns the value for 'variable X', 'variable Y', and 'variable Z' in all those locations where the species was observed.\n",
    "\n",
    "You can change which species you are interested in, and which variables you are interested in, and even add or (completely) remove variables."
   ]
  },
  {
   "cell_type": "code",
   "execution_count": null,
   "metadata": {},
   "outputs": [],
   "source": [
    "# Change here to the species you want to query and the variables you want to retrieve\n",
    "species = \"...\"\n",
    "variables = [\"...\", \"...\", \"...\"]\n",
    "\n",
    "\n",
    "if variables:\n",
    "    variable_string = \"\"\n",
    "else:\n",
    "    variable_string = \"FILTER...\"\n",
    "\n",
    "query = \"\"\"\n",
    "        SELECT ?s ?p ?o\n",
    "        WHERE {\n",
    "            ?s ?p ?o .\n",
    "        }\n",
    "        \"\"\"\n",
    "\n",
    "query += \"\\n\" + variable_string"
   ]
  }
 ],
 "metadata": {
  "kernelspec": {
   "display_name": "Python 3",
   "language": "python",
   "name": "python3"
  },
  "language_info": {
   "codemirror_mode": {
    "name": "ipython",
    "version": 3
   },
   "file_extension": ".py",
   "mimetype": "text/x-python",
   "name": "python",
   "nbconvert_exporter": "python",
   "pygments_lexer": "ipython3",
   "version": "3.11.6"
  }
 },
 "nbformat": 4,
 "nbformat_minor": 2
}
